{
 "metadata": {
  "language_info": {
   "codemirror_mode": {
    "name": "ipython",
    "version": 3
   },
   "file_extension": ".py",
   "mimetype": "text/x-python",
   "name": "python",
   "nbconvert_exporter": "python",
   "pygments_lexer": "ipython3",
   "version": "3.8.8"
  },
  "orig_nbformat": 2,
  "kernelspec": {
   "name": "python388jvsc74a57bd0314ed90e9d95940a86c375e8329485ff2cc72acdbf43530e070610b2f8596d81",
   "display_name": "Python 3.8.8 64-bit ('poliastro_tutorials': conda)"
  }
 },
 "nbformat": 4,
 "nbformat_minor": 2,
 "cells": [
  {
   "source": [
    "# Quickstart\n",
    "## Defining the orbit: Orbit objects\n",
    "The core of poliastro are the Orbit objects inside the *poliastro.twobody* module. They store all the required information to define an orbit:\n",
    "* The body acting as the central body of the orbit, for example the Earth.\n",
    "* The position and velocity vectors or the orbital elements.\n",
    "* The time at which the orbit is defined.\n",
    "\n",
    "First of all, we have to import the relevant modules and classes:"
   ],
   "cell_type": "markdown",
   "metadata": {}
  },
  {
   "cell_type": "code",
   "execution_count": 1,
   "metadata": {},
   "outputs": [
    {
     "output_type": "stream",
     "name": "stderr",
     "text": [
      "WARNING: AstropyDeprecationWarning: The private astropy._erfa module has been made into its own package, pyerfa, which is a dependency of astropy and can be imported directly using \"import erfa\" [astropy._erfa]\n"
     ]
    }
   ],
   "source": [
    "%matplotlib inline\n",
    "\n",
    "from astropy import units as u\n",
    "\n",
    "from poliastro.bodies import Earth, Mars, Sun\n",
    "from poliastro.twobody import Orbit"
   ]
  },
  {
   "source": [
    "## From position and velocity\n",
    "\n",
    "There are several methods available to create *Orbit* objects. For example, if we have the position and velocity vectors we can use *from_vectors()*:"
   ],
   "cell_type": "markdown",
   "metadata": {}
  },
  {
   "cell_type": "code",
   "execution_count": 2,
   "metadata": {},
   "outputs": [],
   "source": [
    "# Data from Curtis, example 4.3\n",
    "r = [-6045, -3490, 2500] * u.km\n",
    "v = [-3.457, 6.618, 2.533] * u.km / u.s\n",
    "\n",
    "orb = Orbit.from_vectors(Earth, r, v)"
   ]
  },
  {
   "source": [
    "And that’s it! Notice a couple of things:\n",
    "\n",
    "* Defining vectorial physical quantities using Astropy units is very easy. The list is automatically converted to a *astropy.units.Quantity*, which is actually a subclass of NumPy arrays.\n",
    "\n",
    "* If we display the orbit we just created, we get a string with the radius of pericenter, radius of apocenter, inclination, reference frame and attractor:"
   ],
   "cell_type": "markdown",
   "metadata": {}
  },
  {
   "cell_type": "code",
   "execution_count": 3,
   "metadata": {},
   "outputs": [
    {
     "output_type": "execute_result",
     "data": {
      "text/plain": [
       "7283 x 10293 km x 153.2 deg (GCRS) orbit around Earth (♁) at epoch J2000.000 (TT)"
      ]
     },
     "metadata": {},
     "execution_count": 3
    }
   ],
   "source": [
    "orb"
   ]
  },
  {
   "source": [
    "* If no time is specified, then a default value is assigned:"
   ],
   "cell_type": "markdown",
   "metadata": {}
  },
  {
   "cell_type": "code",
   "execution_count": 4,
   "metadata": {},
   "outputs": [
    {
     "output_type": "execute_result",
     "data": {
      "text/plain": [
       "<Time object: scale='tt' format='jyear_str' value=J2000.000>"
      ]
     },
     "metadata": {},
     "execution_count": 4
    }
   ],
   "source": [
    "orb.epoch"
   ]
  },
  {
   "cell_type": "code",
   "execution_count": 5,
   "metadata": {},
   "outputs": [
    {
     "output_type": "execute_result",
     "data": {
      "text/plain": [
       "'2000-01-01 12:00:00.000'"
      ]
     },
     "metadata": {},
     "execution_count": 5
    }
   ],
   "source": [
    "orb.epoch.iso"
   ]
  },
  {
   "source": [
    "* The reference frame of the orbit will be one pseudo-inertial frame around the attractor. You can retrieve it using the **frame** property:"
   ],
   "cell_type": "markdown",
   "metadata": {}
  },
  {
   "cell_type": "code",
   "execution_count": 6,
   "metadata": {},
   "outputs": [
    {
     "output_type": "execute_result",
     "data": {
      "text/plain": [
       "<GCRS Frame (obstime=J2000.000, obsgeoloc=(0., 0., 0.) m, obsgeovel=(0., 0., 0.) m / s)>"
      ]
     },
     "metadata": {},
     "execution_count": 6
    }
   ],
   "source": [
    "orb.get_frame()"
   ]
  },
  {
   "source": [
    "## Intermezzo: quick visualization of the orbit\n",
    "If we’re working on interactive mode (for example, using the wonderful Jupyter notebook) we can immediately plot the current orbit:"
   ],
   "cell_type": "markdown",
   "metadata": {}
  },
  {
   "cell_type": "code",
   "execution_count": 7,
   "metadata": {},
   "outputs": [
    {
     "output_type": "error",
     "ename": "ValueError",
     "evalue": "subformat not allowed for format jyear_str",
     "traceback": [
      "\u001b[0;31m---------------------------------------------------------------------------\u001b[0m",
      "\u001b[0;31mValueError\u001b[0m                                Traceback (most recent call last)",
      "\u001b[0;32m<ipython-input-7-5338537cc405>\u001b[0m in \u001b[0;36m<module>\u001b[0;34m\u001b[0m\n\u001b[0;32m----> 1\u001b[0;31m \u001b[0morb\u001b[0m\u001b[0;34m.\u001b[0m\u001b[0mplot\u001b[0m\u001b[0;34m(\u001b[0m\u001b[0;34m)\u001b[0m\u001b[0;34m\u001b[0m\u001b[0;34m\u001b[0m\u001b[0m\n\u001b[0m",
      "\u001b[0;32m~/opt/anaconda3/envs/poliastro_tutorials/lib/python3.8/site-packages/poliastro/twobody/orbit.py\u001b[0m in \u001b[0;36mplot\u001b[0;34m(self, label, use_3d, interactive)\u001b[0m\n\u001b[1;32m   1433\u001b[0m             \u001b[0;32mfrom\u001b[0m \u001b[0mpoliastro\u001b[0m\u001b[0;34m.\u001b[0m\u001b[0mplotting\u001b[0m\u001b[0;34m.\u001b[0m\u001b[0mstatic\u001b[0m \u001b[0;32mimport\u001b[0m \u001b[0mStaticOrbitPlotter\u001b[0m\u001b[0;34m\u001b[0m\u001b[0;34m\u001b[0m\u001b[0m\n\u001b[1;32m   1434\u001b[0m \u001b[0;34m\u001b[0m\u001b[0m\n\u001b[0;32m-> 1435\u001b[0;31m             \u001b[0;32mreturn\u001b[0m \u001b[0mStaticOrbitPlotter\u001b[0m\u001b[0;34m(\u001b[0m\u001b[0;34m)\u001b[0m\u001b[0;34m.\u001b[0m\u001b[0mplot\u001b[0m\u001b[0;34m(\u001b[0m\u001b[0mself\u001b[0m\u001b[0;34m,\u001b[0m \u001b[0mlabel\u001b[0m\u001b[0;34m=\u001b[0m\u001b[0mlabel\u001b[0m\u001b[0;34m)\u001b[0m\u001b[0;34m\u001b[0m\u001b[0;34m\u001b[0m\u001b[0m\n\u001b[0m\u001b[1;32m   1436\u001b[0m         \u001b[0;32melif\u001b[0m \u001b[0muse_3d\u001b[0m\u001b[0;34m:\u001b[0m\u001b[0;34m\u001b[0m\u001b[0;34m\u001b[0m\u001b[0m\n\u001b[1;32m   1437\u001b[0m             \u001b[0;32mfrom\u001b[0m \u001b[0mpoliastro\u001b[0m\u001b[0;34m.\u001b[0m\u001b[0mplotting\u001b[0m\u001b[0;34m.\u001b[0m\u001b[0mcore\u001b[0m \u001b[0;32mimport\u001b[0m \u001b[0mOrbitPlotter3D\u001b[0m\u001b[0;34m\u001b[0m\u001b[0;34m\u001b[0m\u001b[0m\n",
      "\u001b[0;32m~/opt/anaconda3/envs/poliastro_tutorials/lib/python3.8/site-packages/poliastro/plotting/static.py\u001b[0m in \u001b[0;36mplot\u001b[0;34m(self, orbit, label, color, trail)\u001b[0m\n\u001b[1;32m    213\u001b[0m             \u001b[0mself\u001b[0m\u001b[0;34m.\u001b[0m\u001b[0mset_orbit_frame\u001b[0m\u001b[0;34m(\u001b[0m\u001b[0morbit\u001b[0m\u001b[0;34m)\u001b[0m\u001b[0;34m\u001b[0m\u001b[0;34m\u001b[0m\u001b[0m\n\u001b[1;32m    214\u001b[0m \u001b[0;34m\u001b[0m\u001b[0m\n\u001b[0;32m--> 215\u001b[0;31m         \u001b[0mlines\u001b[0m \u001b[0;34m=\u001b[0m \u001b[0mself\u001b[0m\u001b[0;34m.\u001b[0m\u001b[0m_plot\u001b[0m\u001b[0;34m(\u001b[0m\u001b[0morbit\u001b[0m\u001b[0;34m,\u001b[0m \u001b[0mlabel\u001b[0m\u001b[0;34m=\u001b[0m\u001b[0mlabel\u001b[0m\u001b[0;34m,\u001b[0m \u001b[0mcolor\u001b[0m\u001b[0;34m=\u001b[0m\u001b[0mcolor\u001b[0m\u001b[0;34m,\u001b[0m \u001b[0mtrail\u001b[0m\u001b[0;34m=\u001b[0m\u001b[0mtrail\u001b[0m\u001b[0;34m)\u001b[0m\u001b[0;34m\u001b[0m\u001b[0;34m\u001b[0m\u001b[0m\n\u001b[0m\u001b[1;32m    216\u001b[0m         \u001b[0mlines\u001b[0m \u001b[0;34m=\u001b[0m \u001b[0mlines\u001b[0m\u001b[0;34m[\u001b[0m\u001b[0;36m0\u001b[0m\u001b[0;34m]\u001b[0m \u001b[0;34m+\u001b[0m \u001b[0;34m[\u001b[0m\u001b[0mlines\u001b[0m\u001b[0;34m[\u001b[0m\u001b[0;36m1\u001b[0m\u001b[0;34m]\u001b[0m\u001b[0;34m]\u001b[0m\u001b[0;34m\u001b[0m\u001b[0;34m\u001b[0m\u001b[0m\n\u001b[1;32m    217\u001b[0m \u001b[0;34m\u001b[0m\u001b[0m\n",
      "\u001b[0;32m~/opt/anaconda3/envs/poliastro_tutorials/lib/python3.8/site-packages/poliastro/plotting/_base.py\u001b[0m in \u001b[0;36m_plot\u001b[0;34m(self, orbit, label, color, trail)\u001b[0m\n\u001b[1;32m    151\u001b[0m         \u001b[0morbit\u001b[0m \u001b[0;34m=\u001b[0m \u001b[0morbit\u001b[0m\u001b[0;34m.\u001b[0m\u001b[0mchange_plane\u001b[0m\u001b[0;34m(\u001b[0m\u001b[0mself\u001b[0m\u001b[0;34m.\u001b[0m\u001b[0mplane\u001b[0m\u001b[0;34m)\u001b[0m\u001b[0;34m\u001b[0m\u001b[0;34m\u001b[0m\u001b[0m\n\u001b[1;32m    152\u001b[0m \u001b[0;34m\u001b[0m\u001b[0m\n\u001b[0;32m--> 153\u001b[0;31m         \u001b[0mlabel\u001b[0m \u001b[0;34m=\u001b[0m \u001b[0mgenerate_label\u001b[0m\u001b[0;34m(\u001b[0m\u001b[0morbit\u001b[0m\u001b[0;34m.\u001b[0m\u001b[0mepoch\u001b[0m\u001b[0;34m,\u001b[0m \u001b[0mlabel\u001b[0m\u001b[0;34m)\u001b[0m\u001b[0;34m\u001b[0m\u001b[0;34m\u001b[0m\u001b[0m\n\u001b[0m\u001b[1;32m    154\u001b[0m         \u001b[0mcoordinates\u001b[0m \u001b[0;34m=\u001b[0m \u001b[0morbit\u001b[0m\u001b[0;34m.\u001b[0m\u001b[0msample\u001b[0m\u001b[0;34m(\u001b[0m\u001b[0mself\u001b[0m\u001b[0;34m.\u001b[0m\u001b[0m_num_points\u001b[0m\u001b[0;34m)\u001b[0m\u001b[0;34m\u001b[0m\u001b[0;34m\u001b[0m\u001b[0m\n\u001b[1;32m    155\u001b[0m \u001b[0;34m\u001b[0m\u001b[0m\n",
      "\u001b[0;32m~/opt/anaconda3/envs/poliastro_tutorials/lib/python3.8/site-packages/poliastro/plotting/util.py\u001b[0m in \u001b[0;36mgenerate_label\u001b[0;34m(epoch, label)\u001b[0m\n\u001b[1;32m     18\u001b[0m \u001b[0;32mdef\u001b[0m \u001b[0mgenerate_label\u001b[0m\u001b[0;34m(\u001b[0m\u001b[0mepoch\u001b[0m\u001b[0;34m,\u001b[0m \u001b[0mlabel\u001b[0m\u001b[0;34m)\u001b[0m\u001b[0;34m:\u001b[0m\u001b[0;34m\u001b[0m\u001b[0;34m\u001b[0m\u001b[0m\n\u001b[1;32m     19\u001b[0m     \u001b[0mepoch\u001b[0m \u001b[0;34m=\u001b[0m \u001b[0mepoch\u001b[0m\u001b[0;34m.\u001b[0m\u001b[0mcopy\u001b[0m\u001b[0;34m(\u001b[0m\u001b[0;34m)\u001b[0m\u001b[0;34m\u001b[0m\u001b[0;34m\u001b[0m\u001b[0m\n\u001b[0;32m---> 20\u001b[0;31m     \u001b[0mepoch\u001b[0m\u001b[0;34m.\u001b[0m\u001b[0mout_subfmt\u001b[0m \u001b[0;34m=\u001b[0m \u001b[0;34m\"date_hm\"\u001b[0m\u001b[0;34m\u001b[0m\u001b[0;34m\u001b[0m\u001b[0m\n\u001b[0m\u001b[1;32m     21\u001b[0m     \u001b[0mlabel_\u001b[0m \u001b[0;34m=\u001b[0m \u001b[0;34mf\"{epoch.iso}\"\u001b[0m\u001b[0;34m\u001b[0m\u001b[0;34m\u001b[0m\u001b[0m\n\u001b[1;32m     22\u001b[0m     \u001b[0;32mif\u001b[0m \u001b[0mlabel\u001b[0m\u001b[0;34m:\u001b[0m\u001b[0;34m\u001b[0m\u001b[0;34m\u001b[0m\u001b[0m\n",
      "\u001b[0;32m~/opt/anaconda3/envs/poliastro_tutorials/lib/python3.8/site-packages/astropy/time/core.py\u001b[0m in \u001b[0;36mout_subfmt\u001b[0;34m(self, val)\u001b[0m\n\u001b[1;32m    620\u001b[0m     \u001b[0;32mdef\u001b[0m \u001b[0mout_subfmt\u001b[0m\u001b[0;34m(\u001b[0m\u001b[0mself\u001b[0m\u001b[0;34m,\u001b[0m \u001b[0mval\u001b[0m\u001b[0;34m)\u001b[0m\u001b[0;34m:\u001b[0m\u001b[0;34m\u001b[0m\u001b[0;34m\u001b[0m\u001b[0m\n\u001b[1;32m    621\u001b[0m         \u001b[0;31m# Setting the out_subfmt property here does validation of ``val``\u001b[0m\u001b[0;34m\u001b[0m\u001b[0;34m\u001b[0m\u001b[0;34m\u001b[0m\u001b[0m\n\u001b[0;32m--> 622\u001b[0;31m         \u001b[0mself\u001b[0m\u001b[0;34m.\u001b[0m\u001b[0m_time\u001b[0m\u001b[0;34m.\u001b[0m\u001b[0mout_subfmt\u001b[0m \u001b[0;34m=\u001b[0m \u001b[0mval\u001b[0m\u001b[0;34m\u001b[0m\u001b[0;34m\u001b[0m\u001b[0m\n\u001b[0m\u001b[1;32m    623\u001b[0m         \u001b[0;32mdel\u001b[0m \u001b[0mself\u001b[0m\u001b[0;34m.\u001b[0m\u001b[0mcache\u001b[0m\u001b[0;34m\u001b[0m\u001b[0;34m\u001b[0m\u001b[0m\n\u001b[1;32m    624\u001b[0m \u001b[0;34m\u001b[0m\u001b[0m\n",
      "\u001b[0;32m~/opt/anaconda3/envs/poliastro_tutorials/lib/python3.8/site-packages/astropy/time/formats.py\u001b[0m in \u001b[0;36mout_subfmt\u001b[0;34m(self, subfmt)\u001b[0m\n\u001b[1;32m    181\u001b[0m     \u001b[0;32mdef\u001b[0m \u001b[0mout_subfmt\u001b[0m\u001b[0;34m(\u001b[0m\u001b[0mself\u001b[0m\u001b[0;34m,\u001b[0m \u001b[0msubfmt\u001b[0m\u001b[0;34m)\u001b[0m\u001b[0;34m:\u001b[0m\u001b[0;34m\u001b[0m\u001b[0;34m\u001b[0m\u001b[0m\n\u001b[1;32m    182\u001b[0m         \u001b[0;31m# Validate subfmt value for this class, raises ValueError if not.\u001b[0m\u001b[0;34m\u001b[0m\u001b[0;34m\u001b[0m\u001b[0;34m\u001b[0m\u001b[0m\n\u001b[0;32m--> 183\u001b[0;31m         \u001b[0mself\u001b[0m\u001b[0;34m.\u001b[0m\u001b[0m_select_subfmts\u001b[0m\u001b[0;34m(\u001b[0m\u001b[0msubfmt\u001b[0m\u001b[0;34m)\u001b[0m\u001b[0;34m\u001b[0m\u001b[0;34m\u001b[0m\u001b[0m\n\u001b[0m\u001b[1;32m    184\u001b[0m         \u001b[0mself\u001b[0m\u001b[0;34m.\u001b[0m\u001b[0m_out_subfmt\u001b[0m \u001b[0;34m=\u001b[0m \u001b[0msubfmt\u001b[0m\u001b[0;34m\u001b[0m\u001b[0;34m\u001b[0m\u001b[0m\n\u001b[1;32m    185\u001b[0m \u001b[0;34m\u001b[0m\u001b[0m\n",
      "\u001b[0;32m~/opt/anaconda3/envs/poliastro_tutorials/lib/python3.8/site-packages/astropy/time/formats.py\u001b[0m in \u001b[0;36m_select_subfmts\u001b[0;34m(cls, pattern)\u001b[0m\n\u001b[1;32m    394\u001b[0m         \u001b[0;32mif\u001b[0m \u001b[0mlen\u001b[0m\u001b[0;34m(\u001b[0m\u001b[0msubfmts\u001b[0m\u001b[0;34m)\u001b[0m \u001b[0;34m==\u001b[0m \u001b[0;36m0\u001b[0m \u001b[0;32mand\u001b[0m \u001b[0mpattern\u001b[0m \u001b[0;34m!=\u001b[0m \u001b[0;34m'*'\u001b[0m\u001b[0;34m:\u001b[0m\u001b[0;34m\u001b[0m\u001b[0;34m\u001b[0m\u001b[0m\n\u001b[1;32m    395\u001b[0m             \u001b[0;32mif\u001b[0m \u001b[0mlen\u001b[0m\u001b[0;34m(\u001b[0m\u001b[0mcls\u001b[0m\u001b[0;34m.\u001b[0m\u001b[0msubfmts\u001b[0m\u001b[0;34m)\u001b[0m \u001b[0;34m==\u001b[0m \u001b[0;36m0\u001b[0m\u001b[0;34m:\u001b[0m\u001b[0;34m\u001b[0m\u001b[0;34m\u001b[0m\u001b[0m\n\u001b[0;32m--> 396\u001b[0;31m                 \u001b[0;32mraise\u001b[0m \u001b[0mValueError\u001b[0m\u001b[0;34m(\u001b[0m\u001b[0;34mf'subformat not allowed for format {cls.name}'\u001b[0m\u001b[0;34m)\u001b[0m\u001b[0;34m\u001b[0m\u001b[0;34m\u001b[0m\u001b[0m\n\u001b[0m\u001b[1;32m    397\u001b[0m             \u001b[0;32melse\u001b[0m\u001b[0;34m:\u001b[0m\u001b[0;34m\u001b[0m\u001b[0;34m\u001b[0m\u001b[0m\n\u001b[1;32m    398\u001b[0m                 \u001b[0msubfmt_names\u001b[0m \u001b[0;34m=\u001b[0m \u001b[0;34m[\u001b[0m\u001b[0mx\u001b[0m\u001b[0;34m[\u001b[0m\u001b[0;36m0\u001b[0m\u001b[0;34m]\u001b[0m \u001b[0;32mfor\u001b[0m \u001b[0mx\u001b[0m \u001b[0;32min\u001b[0m \u001b[0mcls\u001b[0m\u001b[0;34m.\u001b[0m\u001b[0msubfmts\u001b[0m\u001b[0;34m]\u001b[0m\u001b[0;34m\u001b[0m\u001b[0;34m\u001b[0m\u001b[0m\n",
      "\u001b[0;31mValueError\u001b[0m: subformat not allowed for format jyear_str"
     ]
    }
   ],
   "source": [
    "orb.plot()"
   ]
  },
  {
   "source": [
    "This plot is made in the so called *perifocal* frame, which means:\n",
    "* we’re visualizing the plane of the orbit itself,\n",
    "* the (𝑥) axis points to the pericenter, and\n",
    "* the (𝑦) axis is turned 90∘ in the direction of the orbit.\n",
    "\n",
    "The dotted line represents the *osculating orbit*: the instantaneous Keplerian orbit at that point. This is relevant in the context of perturbations, when the object shall deviate from its Keplerian orbit.\n",
    "\n",
    "## From classical orbital elements\n",
    "We can also define an *Orbit* using a set of six parameters called orbital elements. Although there are several of these element sets, each one with its advantages and drawbacks, right now poliastro supports the classical orbital elements:\n",
    "* Semimajor axis (𝑎)\n",
    "* Eccentricity (𝑒)\n",
    "* Inclination (𝑖)\n",
    "* Right ascension of the ascending node (Ω)\n",
    "* Argument of pericenter (𝜔)\n",
    "* True anomaly (𝜈)\n",
    "\n",
    "In this case, we’d use the method *from_classical()*:"
   ],
   "cell_type": "markdown",
   "metadata": {}
  },
  {
   "cell_type": "code",
   "execution_count": 8,
   "metadata": {},
   "outputs": [],
   "source": [
    "# Data for Mars at J2000 from JPL HORIZONS\n",
    "a = 1.523679 * u.AU\n",
    "ecc = 0.093315 * u.one\n",
    "inc = 1.85 * u.deg\n",
    "raan = 49.562 * u.deg\n",
    "argp = 286.537 * u.deg\n",
    "nu = 23.33 * u.deg\n",
    "\n",
    "orb = Orbit.from_classical(Sun, a, ecc, inc, raan, argp, nu)"
   ]
  },
  {
   "source": [
    "Notice that whether we create an *Orbit* from (𝑟) and (𝑣) or from elements we can access many mathematical properties of the orbit:"
   ],
   "cell_type": "markdown",
   "metadata": {}
  },
  {
   "cell_type": "code",
   "execution_count": 9,
   "metadata": {},
   "outputs": [
    {
     "output_type": "execute_result",
     "data": {
      "text/plain": [
       "<Quantity 686.97138348 d>"
      ],
      "text/latex": "$686.97138 \\; \\mathrm{d}$"
     },
     "metadata": {},
     "execution_count": 9
    }
   ],
   "source": [
    "orb.period.to(u.day)"
   ]
  },
  {
   "cell_type": "code",
   "execution_count": 10,
   "metadata": {},
   "outputs": [
    {
     "output_type": "execute_result",
     "data": {
      "text/plain": [
       "<Quantity [ 1.16420212, 26.29603633,  0.52229379] km / s>"
      ],
      "text/latex": "$[1.1642021,~26.296036,~0.52229379] \\; \\mathrm{\\frac{km}{s}}$"
     },
     "metadata": {},
     "execution_count": 10
    }
   ],
   "source": [
    "orb.v"
   ]
  },
  {
   "source": [
    "To see a complete list of properties, check out the *poliastro.twobody.orbit.Orbit* class on the API reference.\n",
    "\n",
    "## Moving forward in time: propagation\n",
    "\n",
    "Now that we have defined an orbit, we might be interested in computing how is it going to evolve in the future. In the context of orbital mechanics, this process is known as propagation, and can be performed with the propagate method of Orbit objects:"
   ],
   "cell_type": "markdown",
   "metadata": {}
  },
  {
   "cell_type": "code",
   "execution_count": 11,
   "metadata": {},
   "outputs": [
    {
     "output_type": "execute_result",
     "data": {
      "text/plain": [
       "6772 x 6790 km x 51.6 deg (GCRS) orbit around Earth (♁) at epoch 2013-03-18 12:00:00.000 (UTC)"
      ]
     },
     "metadata": {},
     "execution_count": 11
    }
   ],
   "source": [
    "from poliastro.examples import iss\n",
    "\n",
    "iss"
   ]
  },
  {
   "cell_type": "code",
   "execution_count": 12,
   "metadata": {},
   "outputs": [
    {
     "output_type": "execute_result",
     "data": {
      "text/plain": [
       "<Time object: scale='utc' format='iso' value=2013-03-18 12:00:00.000>"
      ]
     },
     "metadata": {},
     "execution_count": 12
    }
   ],
   "source": [
    "iss.epoch"
   ]
  },
  {
   "cell_type": "code",
   "execution_count": 13,
   "metadata": {},
   "outputs": [
    {
     "output_type": "execute_result",
     "data": {
      "text/plain": [
       "<Quantity 46.59580468 deg>"
      ],
      "text/latex": "$46.595805 \\; \\mathrm{{}^{\\circ}}$"
     },
     "metadata": {},
     "execution_count": 13
    }
   ],
   "source": [
    "iss.nu.to(u.deg)"
   ]
  },
  {
   "cell_type": "code",
   "execution_count": 14,
   "metadata": {},
   "outputs": [
    {
     "output_type": "execute_result",
     "data": {
      "text/plain": [
       "<Quantity 3.88701058 deg / min>"
      ],
      "text/latex": "$3.8870106 \\; \\mathrm{\\frac{{}^{\\circ}}{min}}$"
     },
     "metadata": {},
     "execution_count": 14
    }
   ],
   "source": [
    "iss.n.to(u.deg / u.min)"
   ]
  },
  {
   "source": [
    "Using the *propagate()* method we can now retrieve the position of the ISS after some time:"
   ],
   "cell_type": "markdown",
   "metadata": {}
  },
  {
   "cell_type": "code",
   "execution_count": 15,
   "metadata": {},
   "outputs": [
    {
     "output_type": "execute_result",
     "data": {
      "text/plain": [
       "<Time object: scale='utc' format='iso' value=2013-03-18 12:30:00.000>"
      ]
     },
     "metadata": {},
     "execution_count": 15
    }
   ],
   "source": [
    "iss_30m = iss.propagate(30 * u.min)\n",
    "iss_30m.epoch  # Notice we advanced the epoch!"
   ]
  },
  {
   "cell_type": "code",
   "execution_count": 16,
   "metadata": {},
   "outputs": [
    {
     "output_type": "execute_result",
     "data": {
      "text/plain": [
       "<Quantity 163.1409362 deg>"
      ],
      "text/latex": "$163.14094 \\; \\mathrm{{}^{\\circ}}$"
     },
     "metadata": {},
     "execution_count": 16
    }
   ],
   "source": [
    "iss_30m.nu.to(u.deg)"
   ]
  },
  {
   "source": [
    "For more advanced propagation options, check out the *poliastro.twobody.propagation* module.\n",
    "\n",
    "## Studying non-keplerian orbits: perturbations\n",
    "\n",
    "Apart from the Keplerian propagators, poliastro also allows the user to define custom perturbation accelerations to study non Keplerian orbits, thanks to Cowell’s method:"
   ],
   "cell_type": "markdown",
   "metadata": {}
  },
  {
   "cell_type": "code",
   "execution_count": 17,
   "metadata": {},
   "outputs": [
    {
     "output_type": "execute_result",
     "data": {
      "text/plain": [
       "18255 x 21848 km x 28.0 deg (GCRS) orbit around Earth (♁) at epoch J2000.008 (TT)"
      ]
     },
     "metadata": {},
     "execution_count": 17
    }
   ],
   "source": [
    "from numba import njit\n",
    "import numpy as np\n",
    "\n",
    "from poliastro.core.propagation import func_twobody\n",
    "from poliastro.twobody.propagation import cowell\n",
    "\n",
    "\n",
    "r0 = [-2384.46, 5729.01, 3050.46] * u.km\n",
    "v0 = [-7.36138, -2.98997, 1.64354] * u.km / u.s\n",
    "initial = Orbit.from_vectors(Earth, r0, v0)\n",
    "\n",
    "@njit\n",
    "def accel(t0, state, k):\n",
    "    v_vec = state[3:]\n",
    "    norm_v = (v_vec * v_vec).sum() ** 0.5\n",
    "    return 1e-5 * v_vec / norm_v\n",
    "\n",
    "def f(t0, u_, k):\n",
    "    du_kep = func_twobody(t0, u_, k)\n",
    "    ax, ay, az = accel(t0, u_, k)\n",
    "    du_ad = np.array([0, 0, 0, ax, ay, az])\n",
    "    return du_kep + du_ad\n",
    "\n",
    "initial.propagate(3 * u.day, method=cowell, f=f)"
   ]
  },
  {
   "source": [
    "Some natural perturbations are available in poliastro to be used directly in this way. For instance, let us examine the effect of J2 perturbation:"
   ],
   "cell_type": "markdown",
   "metadata": {}
  },
  {
   "cell_type": "code",
   "execution_count": 18,
   "metadata": {},
   "outputs": [],
   "source": [
    "from poliastro.core.perturbations import J2_perturbation\n",
    "\n",
    "tofs = [48.0] * u.h\n",
    "\n",
    "def f(t0, u_, k):\n",
    "    du_kep = func_twobody(t0, u_, k)\n",
    "    ax, ay, az = J2_perturbation(\n",
    "        t0, u_, k, J2=Earth.J2.value, R=Earth.R.to(u.km).value\n",
    "    )\n",
    "    du_ad = np.array([0, 0, 0, ax, ay, az])\n",
    "    return du_kep + du_ad\n",
    "\n",
    "final = initial.propagate(tofs, method=cowell, f=f)"
   ]
  },
  {
   "source": [
    "The J2 perturbation changes the orbit parameters (from Curtis example 12.2):"
   ],
   "cell_type": "markdown",
   "metadata": {}
  },
  {
   "cell_type": "code",
   "execution_count": 19,
   "metadata": {},
   "outputs": [
    {
     "output_type": "execute_result",
     "data": {
      "text/plain": [
       "<Quantity [-0.17232668] deg / h>"
      ],
      "text/latex": "$[-0.17232668] \\; \\mathrm{\\frac{{}^{\\circ}}{h}}$"
     },
     "metadata": {},
     "execution_count": 19
    }
   ],
   "source": [
    "((final.raan - initial.raan) / tofs).to(u.deg / u.h)"
   ]
  },
  {
   "cell_type": "code",
   "execution_count": 21,
   "metadata": {},
   "outputs": [
    {
     "output_type": "execute_result",
     "data": {
      "text/plain": [
       "<Quantity [0.28220397] deg / h>"
      ],
      "text/latex": "$[0.28220397] \\; \\mathrm{\\frac{{}^{\\circ}}{h}}$"
     },
     "metadata": {},
     "execution_count": 21
    }
   ],
   "source": [
    "((final.argp - initial.argp) / tofs).to(u.deg / u.h)"
   ]
  },
  {
   "source": [
    "For more available perturbation options, see the *poliastro.twobody.perturbations* module.\n",
    "\n",
    "## Studying artificial perturbations: thrust\n",
    "\n",
    "In addition to natural perturbations, poliastro also has built-in artificial perturbations (thrusts) aimed at intentional change of some orbital elements. Let us simultaneously change eccentricy and inclination:"
   ],
   "cell_type": "markdown",
   "metadata": {}
  },
  {
   "cell_type": "code",
   "execution_count": 24,
   "metadata": {},
   "outputs": [],
   "source": [
    "from poliastro.twobody.thrust import change_inc_ecc\n",
    "from poliastro.twobody import Orbit\n",
    "from poliastro.bodies import Earth\n",
    "from poliastro.twobody.propagation import cowell\n",
    "from astropy import units as u\n",
    "from astropy.time import Time\n",
    "\n",
    "ecc_0, ecc_f = 0.4, 0.0\n",
    "a = 42164  # km\n",
    "inc_0 = 0.0  # rad, baseline\n",
    "inc_f = (20.0 * u.deg).to(u.rad).value  # rad\n",
    "argp = 0.0  # rad, the method is efficient for 0 and 180\n",
    "f = 2.4e-7  # km / s2\n",
    "\n",
    "# Retrieve r and v from initial orbit\n",
    "s0 = Orbit.from_classical(\n",
    "    Earth,\n",
    "    a * u.km,\n",
    "    ecc_0 * u.one,\n",
    "    inc_0 * u.deg,\n",
    "    0 * u.deg,\n",
    "    argp * u.deg,\n",
    "    0 * u.deg,\n",
    ")\n",
    "a_d, _, _, t_f = change_inc_ecc(s0, ecc_f, inc_f, f)\n",
    "\n",
    "# Propagate orbit\n",
    "def f_geo(t0, u_, k):\n",
    "    du_kep = func_twobody(t0, u_, k)\n",
    "    ax, ay, az = a_d(t0, u_, k)\n",
    "    du_ad = np.array([0, 0, 0, ax, ay, az])\n",
    "    return du_kep + du_ad\n",
    "\n",
    "sf = s0.propagate(t_f * u.s, method=cowell, f=f_geo, rtol=1e-8)"
   ]
  },
  {
   "source": [
    "The thrust changes orbit parameters as desired (within errors):"
   ],
   "cell_type": "markdown",
   "metadata": {}
  },
  {
   "cell_type": "code",
   "execution_count": 26,
   "metadata": {},
   "outputs": [
    {
     "output_type": "execute_result",
     "data": {
      "text/plain": [
       "(<Quantity 0.34719735 rad>, <Quantity 0.00894521>)"
      ]
     },
     "metadata": {},
     "execution_count": 26
    }
   ],
   "source": [
    "sf.inc, sf.ecc"
   ]
  },
  {
   "source": [
    "For more available perturbation options, see the *poliastro.twobody.thrust* module.\n",
    "\n",
    "## Changing the orbit: Maneuver objects\n",
    "\n",
    "poliastro helps us define several in-plane and general out-of-plane maneuvers with the Maneuver class inside the *poliastro.maneuver* module.\n",
    "\n",
    "Each Maneuver consists on a list of impulses Δ𝑣𝑖 (changes in velocity) each one applied at a certain instant 𝑡𝑖. The simplest maneuver is a single change of velocity without delay: you can recreate it either using the impulse() method or instantiating it directly."
   ],
   "cell_type": "markdown",
   "metadata": {}
  },
  {
   "cell_type": "code",
   "execution_count": 28,
   "metadata": {},
   "outputs": [],
   "source": [
    "from poliastro.maneuver import Maneuver\n",
    "\n",
    "dv = [5, 0, 0] * u.m / u.s\n",
    "\n",
    "man = Maneuver.impulse(dv)\n",
    "man = Maneuver((0 * u.s, dv))  # Equivalent"
   ]
  },
  {
   "source": [
    "There are other useful methods you can use to compute common in-plane maneuvers, notably *hohmann()* and *bielliptic()* for Hohmann and bielliptic transfers respectively. Both return the corresponding Maneuver object, which in turn you can use to calculate the total cost in terms of velocity change ∑|Δ𝑣𝑖| and the transfer time:"
   ],
   "cell_type": "markdown",
   "metadata": {}
  },
  {
   "cell_type": "code",
   "execution_count": 31,
   "metadata": {},
   "outputs": [
    {
     "output_type": "execute_result",
     "data": {
      "text/plain": [
       "7078 x 7078 km x 0.0 deg (GCRS) orbit around Earth (♁) at epoch J2000.000 (TT)"
      ]
     },
     "metadata": {},
     "execution_count": 31
    }
   ],
   "source": [
    "ss_i = Orbit.circular(Earth, alt=700 * u.km)\n",
    "ss_i"
   ]
  },
  {
   "cell_type": "code",
   "execution_count": 33,
   "metadata": {},
   "outputs": [
    {
     "output_type": "execute_result",
     "data": {
      "text/plain": [
       "<Quantity 3.6173999 km / s>"
      ],
      "text/latex": "$3.6173999 \\; \\mathrm{\\frac{km}{s}}$"
     },
     "metadata": {},
     "execution_count": 33
    }
   ],
   "source": [
    "hoh = Maneuver.hohmann(ss_i, 36000 * u.km)\n",
    "hoh.get_total_cost()"
   ]
  },
  {
   "cell_type": "code",
   "execution_count": 35,
   "metadata": {},
   "outputs": [
    {
     "output_type": "execute_result",
     "data": {
      "text/plain": [
       "<Quantity 15729.73314712 s>"
      ],
      "text/latex": "$15729.733 \\; \\mathrm{s}$"
     },
     "metadata": {},
     "execution_count": 35
    }
   ],
   "source": [
    "hoh.get_total_time()"
   ]
  },
  {
   "source": [
    "You can also retrieve the individual vectorial impulses:"
   ],
   "cell_type": "markdown",
   "metadata": {}
  },
  {
   "cell_type": "code",
   "execution_count": 37,
   "metadata": {},
   "outputs": [
    {
     "output_type": "execute_result",
     "data": {
      "text/plain": [
       "(<Quantity 0. s>, <Quantity [   0.       , 2197.3992373,    0.       ] m / s>)"
      ]
     },
     "metadata": {},
     "execution_count": 37
    }
   ],
   "source": [
    "hoh.impulses[0]"
   ]
  },
  {
   "cell_type": "code",
   "execution_count": 39,
   "metadata": {},
   "outputs": [
    {
     "output_type": "execute_result",
     "data": {
      "text/plain": [
       "(<Quantity 0. s>, <Quantity [   0.       , 2197.3992373,    0.       ] m / s>)"
      ]
     },
     "metadata": {},
     "execution_count": 39
    }
   ],
   "source": [
    "hoh[0]"
   ]
  },
  {
   "cell_type": "code",
   "execution_count": 41,
   "metadata": {},
   "outputs": [
    {
     "output_type": "execute_result",
     "data": {
      "text/plain": [
       "(<Quantity 15729.73314712 s>,\n",
       " <Quantity [ 0.        , -1.42000067,  0.        ] km / s>)"
      ]
     },
     "metadata": {},
     "execution_count": 41
    }
   ],
   "source": [
    "tuple(val.decompose([u.km, u.s]) for val in hoh[1])"
   ]
  },
  {
   "source": [
    "To actually retrieve the resulting Orbit after performing a maneuver, use the method *apply_maneuver()*:"
   ],
   "cell_type": "markdown",
   "metadata": {}
  },
  {
   "cell_type": "code",
   "execution_count": 43,
   "metadata": {},
   "outputs": [
    {
     "output_type": "execute_result",
     "data": {
      "text/plain": [
       "36000 x 36000 km x 0.0 deg (GCRS) orbit around Earth (♁) at epoch J2000.000 (TT)"
      ]
     },
     "metadata": {},
     "execution_count": 43
    }
   ],
   "source": [
    "ss_f = ss_i.apply_maneuver(hoh)\n",
    "ss_f"
   ]
  },
  {
   "source": [
    "## More advanced plotting: OrbitPlotter objects\n",
    "\n",
    "We previously saw the poliastro.plotting.plot() function to easily plot orbits. Now we’d like to plot several orbits in one graph (for example, the maneuver we computed in the previous section). For this purpose, we have OrbitPlotter objects in the plotting module.\n",
    "\n",
    "These objects hold the perifocal plane of the first Orbit we plot in them, projecting any further trajectories on this plane. This allows to easily visualize in two dimensions:"
   ],
   "cell_type": "markdown",
   "metadata": {}
  },
  {
   "cell_type": "code",
   "execution_count": 45,
   "metadata": {},
   "outputs": [
    {
     "output_type": "display_data",
     "data": {
      "application/vnd.plotly.v1+json": {
       "config": {
        "plotlyServerURL": "https://plot.ly"
       },
       "data": [
        {
         "hoverinfo": "none",
         "line": {
          "color": "rgb(31, 119, 180)",
          "dash": "dash",
          "width": 2
         },
         "mode": "lines",
         "name": "2000-01-01 12:00 (Initial orbit)",
         "type": "scatter",
         "x": [
          7078.1366,
          7071.844265713841,
          7052.978450396099,
          7021.57269677794,
          6977.682843143205,
          6921.3869240499835,
          6852.785031588018,
          6771.999137418616,
          6679.172875913488,
          6574.471288778083,
          6458.080531613453,
          6330.207542938386,
          6191.079676260279,
          6040.944295848887,
          5880.068336931698,
          5708.737831092812,
          5527.257397719244,
          5335.949702398774,
          5135.154883232285,
          4925.229946080644,
          4706.548129821322,
          4479.498242743268,
          4244.48397125997,
          4001.923162169756,
          3752.247079739406,
          3495.899638932056,
          3233.3366161425706,
          2965.024838843757,
          2691.441355584155,
          2413.0725878131047,
          2130.4134650412016,
          1843.9665448736403,
          1554.2411194811766,
          1261.752310097206,
          967.0201511510236,
          670.5686656655608,
          372.9249335636174,
          74.61815453894347,
          -223.82129284145992,
          -521.862794131103,
          -818.9764424171169,
          -1114.6339804754255,
          -1408.3097399928,
          -1699.4815761859231,
          -1987.6317961557795,
          -2272.24807932673,
          -2552.824388333794,
          -2828.8618687386383,
          -3099.869735974544,
          -3365.3661479434522,
          -3624.879061713644,
          -3877.947072794844,
          -4124.120235498555,
          -4362.960862925101,
          -4594.044305154918,
          -4816.959704260661,
          -5031.31072479757,
          -5236.7162584734415,
          -5432.811101745266,
          -5619.246605137791,
          -5795.691293129585,
          -5961.831453504395,
          -6117.371695120026,
          -6262.035473103016,
          -6395.565580535328,
          -6517.724605758861,
          -6628.2953544847205,
          -6727.081235956727,
          -6813.906612482621,
          -6888.617111711458,
          -6951.079901102019,
          -7001.18392409422,
          -7038.840097563631,
          -7063.981470208008,
          -7076.563341584276,
          -7076.563341584276,
          -7063.981470208009,
          -7038.840097563631,
          -7001.18392409422,
          -6951.079901102018,
          -6888.617111711458,
          -6813.906612482622,
          -6727.081235956729,
          -6628.2953544847205,
          -6517.724605758863,
          -6395.565580535328,
          -6262.035473103016,
          -6117.371695120026,
          -5961.831453504395,
          -5795.691293129588,
          -5619.246605137791,
          -5432.811101745266,
          -5236.7162584734415,
          -5031.31072479757,
          -4816.959704260666,
          -4594.044305154923,
          -4362.960862925101,
          -4124.12023549856,
          -3877.9470727948383,
          -3624.879061713644,
          -3365.366147943455,
          -3099.869735974544,
          -2828.8618687386465,
          -2552.8243883337973,
          -2272.2480793267314,
          -1987.6317961557806,
          -1699.4815761859245,
          -1408.309739992809,
          -1114.633980475435,
          -818.9764424171186,
          -521.8627941310999,
          -223.82129284146308,
          74.61815453894191,
          372.92493356361587,
          670.5686656655593,
          967.0201511510221,
          1261.7523100972123,
          1554.2411194811752,
          1843.9665448736391,
          2130.4134650411943,
          2413.072587813104,
          2691.441355584154,
          2965.0248388437603,
          3233.336616142576,
          3495.899638932056,
          3752.247079739406,
          4001.9231621697504,
          4244.48397125997,
          4479.498242743268,
          4706.548129821317,
          4925.229946080644,
          5135.154883232281,
          5335.949702398777,
          5527.257397719244,
          5708.73783109281,
          5880.0683369316985,
          6040.944295848887,
          6191.079676260279,
          6330.207542938388,
          6458.080531613453,
          6574.471288778083,
          6679.172875913487,
          6771.999137418615,
          6852.785031588018,
          6921.3869240499835,
          6977.682843143205,
          7021.57269677794,
          7052.978450396099,
          7071.844265713841,
          7078.1366
         ],
         "y": [
          0,
          298.38969444305576,
          596.2488628985318,
          893.0479226346847,
          1188.2591757543962,
          1481.3577474227693,
          1771.8225190754185,
          2059.1370549482826,
          2342.7905202815523,
          2622.2785895652273,
          2897.104343211487,
          3166.7791510595607,
          3430.823541142341,
          3688.768052170038,
          3940.1540682152095,
          4184.534634115161,
          4421.475250141906,
          4650.554644526821,
          4871.365522466485,
          5083.515290277979,
          5286.626753416112,
          5480.338787111572,
          5664.3069784375875,
          5838.204238663528,
          6001.7213848067495,
          6154.567689348642,
          6296.471397137548,
          6427.180208559514,
          6546.461728117783,
          6654.103877623531,
          6749.915273263116,
          6833.725565871541,
          6905.385743807036,
          6964.768397888326,
          7011.767947923505,
          7046.30083042777,
          7068.305647196231,
          7077.743274467699,
          7074.596932485295,
          7058.872215330239,
          7030.597080975795,
          6989.821801578998,
          6936.618874098603,
          6871.082891398136,
          6793.330374063233,
          6703.4995632322925,
          6601.75017480878,
          6488.2631154921655,
          6363.240161132429,
          6226.903597979963,
          6079.495827468719,
          5921.278935235315,
          5752.534225140334,
          5573.561719120317,
          5384.67962375973,
          5186.223764531242,
          4978.546988710312,
          4762.0185380256,
          4537.023392160652,
          4303.9615842740695,
          4063.2474897551433,
          3815.3090894795446,
          3560.587208874949,
          3299.5347341495044,
          3032.6158070766833,
          2760.304999768153,
          2483.0864709018565,
          2201.453104905592,
          1915.9056356264418,
          1626.9517560443037,
          1335.1052156122794,
          1040.884906828905,
          744.8139426662025,
          447.4187264939451,
          149.22801615362968,
          -149.22801615362653,
          -447.418726493942,
          -744.8139426662025,
          -1040.884906828905,
          -1335.1052156122823,
          -1626.9517560443005,
          -1915.905635626439,
          -2201.4531049055868,
          -2483.0864709018565,
          -2760.3049997681474,
          -3032.6158070766833,
          -3299.5347341495044,
          -3560.587208874949,
          -3815.3090894795446,
          -4063.2474897551388,
          -4303.9615842740695,
          -4537.023392160652,
          -4762.0185380256,
          -4978.546988710312,
          -5186.223764531237,
          -5384.679623759726,
          -5573.561719120317,
          -5752.534225140331,
          -5921.2789352353175,
          -6079.495827468719,
          -6226.903597979962,
          -6363.240161132429,
          -6488.263115492162,
          -6601.750174808778,
          -6703.4995632322925,
          -6793.330374063233,
          -6871.082891398136,
          -6936.618874098601,
          -6989.821801578996,
          -7030.597080975795,
          -7058.872215330239,
          -7074.596932485295,
          -7077.743274467699,
          -7068.305647196232,
          -7046.30083042777,
          -7011.767947923506,
          -6964.768397888325,
          -6905.385743807036,
          -6833.725565871542,
          -6749.915273263119,
          -6654.103877623532,
          -6546.461728117784,
          -6427.180208559513,
          -6296.471397137545,
          -6154.567689348642,
          -6001.7213848067495,
          -5838.204238663531,
          -5664.3069784375875,
          -5480.338787111572,
          -5286.626753416115,
          -5083.515290277979,
          -4871.36552246649,
          -4650.554644526818,
          -4421.475250141906,
          -4184.5346341151635,
          -3940.154068215207,
          -3688.768052170038,
          -3430.823541142341,
          -3166.7791510595575,
          -2897.104343211487,
          -2622.2785895652273,
          -2342.790520281555,
          -2059.1370549482854,
          -1771.8225190754185,
          -1481.3577474227693,
          -1188.2591757543962,
          -893.0479226346879,
          -596.2488628985318,
          -298.38969444306207,
          -3.1433240899048086e-12
         ]
        },
        {
         "marker": {
          "color": "rgb(31, 119, 180)",
          "size": 10
         },
         "mode": "markers",
         "name": "2000-01-01 12:00 (Initial orbit)",
         "type": "scatter",
         "x": [
          7078.1366
         ],
         "y": [
          0
         ]
        },
        {
         "hoverinfo": "none",
         "line": {
          "color": "rgb(255, 127, 14)",
          "dash": "dash",
          "width": 2
         },
         "mode": "lines",
         "name": "2000-01-01 12:00 (Transfer orbit)",
         "type": "scatter",
         "x": [
          7078.136599999999,
          7058.988761293975,
          7001.57928933436,
          6906.010256067256,
          6772.451579746206,
          6601.140722823758,
          6392.382269751864,
          6146.54738544187,
          5864.0731553468195,
          5545.461808339491,
          5191.279823767775,
          4802.1569242750775,
          4378.784956176434,
          3921.9166593809955,
          3432.364329047982,
          2910.9983713554825,
          2358.7457559500644,
          1776.588367828561,
          1165.56126158238,
          526.750821108207,
          -138.7071719428961,
          -829.6295575438642,
          -1544.7879009069413,
          -2282.910676595877,
          -3042.6855292518294,
          -3822.7616069132355,
          -4621.7519627813635,
          -5438.236021161003,
          -6270.762103192321,
          -7117.850007882876,
          -7977.993643850884,
          -8849.663707100832,
          -9731.310400070095,
          -10621.366187112557,
          -11518.248581519618,
          -12420.362959124026,
          -13326.10539348317,
          -14233.865507602133,
          -15142.029337124806,
          -16048.982199903987,
          -16953.111566847092,
          -17852.809928934057,
          -18746.477655309835,
          -19632.52583736948,
          -20509.37911377994,
          -21375.478471414724,
          -22229.28401722253,
          -23069.27771610084,
          -23893.966089906935,
          -24701.88287280758,
          -25491.591618246046,
          -26261.688252891814,
          -27010.803573031633,
          -27737.605678963748,
          -28440.802343066985,
          -29119.143307334398,
          -29771.422506286166,
          -30396.480211310172,
          -30993.205092617154,
          -31560.536195144436,
          -32097.46482489531,
          -32603.0363423602,
          -33076.35185983095,
          -33516.56983959016,
          -33922.90759013468,
          -34294.64265777255,
          -34631.11411111924,
          -34931.723716209555,
          -35195.9370001358,
          -35423.28420132106,
          -35613.361104738244,
          -35765.829760589535,
          -35880.419085168855,
          -35956.925342838855,
          -35995.2125082653,
          -35995.2125082653,
          -35956.925342838855,
          -35880.419085168855,
          -35765.829760589535,
          -35613.361104738244,
          -35423.28420132106,
          -35195.9370001358,
          -34931.72371620956,
          -34631.11411111924,
          -34294.642657772565,
          -33922.90759013468,
          -33516.56983959015,
          -33076.35185983095,
          -32603.036342360214,
          -32097.464824895294,
          -31560.536195144436,
          -30993.205092617183,
          -30396.480211310198,
          -29771.422506286166,
          -29119.14330733441,
          -28440.80234306702,
          -27737.605678963748,
          -27010.803573031633,
          -26261.688252891814,
          -25491.591618246046,
          -24701.88287280758,
          -23893.966089906935,
          -23069.27771610084,
          -22229.28401722253,
          -21375.478471414743,
          -20509.379113779953,
          -19632.5258373695,
          -18746.47765530984,
          -17852.80992893408,
          -16953.111566847092,
          -16048.982199903987,
          -15142.029337124828,
          -14233.865507602119,
          -13326.10539348317,
          -12420.362959124026,
          -11518.248581519632,
          -10621.366187112537,
          -9731.310400070104,
          -8849.66370710082,
          -7977.993643850893,
          -7117.850007882885,
          -6270.762103192336,
          -5438.236021161003,
          -4621.751962781346,
          -3822.7616069132437,
          -3042.685529251822,
          -2282.910676595884,
          -1544.7879009069386,
          -829.6295575438758,
          -138.70717194291475,
          526.7508211082046,
          1165.5612615823684,
          1776.5883678285688,
          2358.7457559500644,
          2910.9983713554843,
          3432.3643290479868,
          3921.9166593809955,
          4378.784956176428,
          4802.15692427508,
          5191.2798237677725,
          5545.461808339491,
          5864.073155346816,
          6146.547385441867,
          6392.3822697518635,
          6601.140722823758,
          6772.451579746207,
          6906.010256067256,
          7001.5792893343605,
          7058.988761293975,
          7078.136599999999
         ],
         "y": [
          0,
          672.9388477939158,
          1344.6812348740186,
          2014.0328277899719,
          2679.8035438362294,
          3340.809666975633,
          3995.8759524433426,
          4643.837716289133,
          5283.54290614296,
          5913.854149522029,
          6533.6507760375625,
          7141.830809905861,
          7737.312929221017,
          8319.03838850584,
          8885.972901122608,
          9437.108478197048,
          9971.465220785707,
          10488.093062100554,
          10986.07345669303,
          11464.52101359435,
          11922.58507050833,
          12359.451206257925,
          12774.34268879633,
          13166.521856208214,
          13535.291428245722,
          13879.99574606728,
          14200.021937975109,
          14494.8010090787,
          14763.808852947006,
          15006.56718345055,
          15222.644385136666,
          15411.656280626064,
          15573.266813666174,
          15707.188646626908,
          15813.18367137647,
          15891.063432628942,
          15940.689463010865,
          15961.973529251241,
          15954.877789057,
          15919.414858395277,
          15855.647789062625,
          15763.689956581278,
          15643.70485862156,
          15495.905824309035,
          15320.55563493307,
          15117.966056731324,
          14888.49728658074,
          14632.557311580644,
          14350.601183666558,
          14043.130210544488,
          13710.691064384113,
          13353.874809855593,
          12973.31585323818,
          12569.69081446902,
          12143.71732413754,
          11696.152747564476,
          11227.79283823402,
          10739.47032297311,
          10232.053421393508,
          9706.44430222904,
          9163.577479312542,
          8604.418150044352,
          8029.960479306432,
          7441.225831873694,
          6839.260956464614,
          6225.136124660129,
          5599.943227999919,
          4964.793836639091,
          4320.817223016968,
          3669.1583540519196,
          3010.975855431986,
          2347.439951620669,
          1679.7303852405455,
          1009.0343195338326,
          336.54422762969796,
          -336.5442276296819,
          -1009.0343195338326,
          -1679.7303852405294,
          -2347.439951620685,
          -3010.9758554320024,
          -3669.1583540519196,
          -4320.817223016968,
          -4964.793836639075,
          -5599.943227999905,
          -6225.136124660115,
          -6839.260956464614,
          -7441.225831873705,
          -8029.960479306432,
          -8604.41815004434,
          -9163.577479312553,
          -9706.44430222904,
          -10232.053421393488,
          -10739.470322973102,
          -11227.79283823402,
          -11696.152747564467,
          -12143.717324137522,
          -12569.69081446902,
          -12973.31585323818,
          -13353.874809855593,
          -13710.691064384113,
          -14043.130210544488,
          -14350.601183666558,
          -14632.557311580644,
          -14888.49728658074,
          -15117.966056731324,
          -15320.555634933064,
          -15495.905824309033,
          -15643.704858621555,
          -15763.689956581271,
          -15855.647789062625,
          -15919.414858395277,
          -15954.877789056998,
          -15961.973529251241,
          -15940.689463010865,
          -15891.063432628942,
          -15813.183671376475,
          -15707.188646626906,
          -15573.266813666174,
          -15411.65628062606,
          -15222.644385136666,
          -15006.567183450552,
          -14763.808852947011,
          -14494.8010090787,
          -14200.021937975102,
          -13879.995746067281,
          -13535.291428245719,
          -13166.521856208217,
          -12774.34268879633,
          -12359.451206257934,
          -11922.585070508343,
          -11464.521013594353,
          -10986.073456693037,
          -10488.093062100545,
          -9971.465220785707,
          -9437.108478197046,
          -8885.972901122603,
          -8319.03838850584,
          -7737.312929221024,
          -7141.830809905859,
          -6533.650776037567,
          -5913.854149522029,
          -5283.5429061429695,
          -4643.83771628914,
          -3995.8759524433463,
          -3340.809666975633,
          -2679.8035438362267,
          -2014.0328277899787,
          -1344.6812348740157,
          -672.9388477939253,
          -3.1433240899048082e-12
         ]
        },
        {
         "marker": {
          "color": "rgb(255, 127, 14)",
          "size": 10
         },
         "mode": "markers",
         "name": "2000-01-01 12:00 (Transfer orbit)",
         "type": "scatter",
         "x": [
          7078.1366
         ],
         "y": [
          0
         ]
        },
        {
         "hoverinfo": "none",
         "line": {
          "color": "rgb(44, 160, 44)",
          "dash": "dash",
          "width": 2
         },
         "mode": "lines",
         "name": "2000-01-01 16:22 (Final orbit)",
         "type": "scatter",
         "x": [
          -36000.00000000007,
          -35967.99665687419,
          -35872.043528272705,
          -35712.311215356654,
          -35489.0837163493,
          -35202.75792159762,
          -34853.84290791581,
          -34442.959033465224,
          -33970.83683478025,
          -33438.315727901005,
          -32846.34251592221,
          -32195.96970561188,
          -31488.3536360927,
          -30724.752422913218,
          -29906.523721164383,
          -29035.122311618285,
          -28112.097514181012,
          -27139.09043325849,
          -26117.831039932607,
          -25050.135096135895,
          -23937.90092629301,
          -22783.10604216912,
          -21587.803626926296,
          -20354.118884638636,
          -19084.245261757096,
          -17780.44054724161,
          -16445.02285829485,
          -15080.366518834395,
          -13688.897838031324,
          -12273.09079642128,
          -10835.462647257209,
          -9378.569440924875,
          -7905.0014803787735,
          -6417.378715677836,
          -4918.34608580988,
          -3410.5688160865648,
          -1896.7276794701875,
          -379.514230256976,
          1138.3739814080172,
          2654.238205676755,
          4165.3832912768985,
          5669.122477392542,
          7162.782170626673,
          8643.706698552915,
          10109.263031403969,
          11556.845463502592,
          12983.880246111103,
          14387.830163462873,
          15766.199043839175,
          17116.536197671543,
          18436.440774778315,
          19723.566032988667,
          20975.623510564554,
          22190.38709500226,
          23365.69698097895,
          24499.46351040801,
          25589.67088777464,
          26634.38076414681,
          27631.735683488958,
          28579.962385150942,
          29477.37495666087,
          30322.3778312159,
          31113.468624541754,
          31849.240806077174,
          32528.386199733926,
          33149.69730978614,
          33712.06946775367,
          34214.502796462286,
          34656.103987788854,
          35036.087890930554,
          35353.778908374356,
          35608.61219708473,
          35800.134672773995,
          35928.00581546961,
          35991.99827494625,
          35991.99827494625,
          35928.005815469616,
          35800.13467277401,
          35608.61219708475,
          35353.778908374385,
          35036.08789093058,
          34656.10398778889,
          34214.50279646232,
          33712.06946775372,
          33149.697309786214,
          32528.386199733988,
          31849.24080607724,
          31113.468624541827,
          30322.37783121598,
          29477.37495666096,
          28579.962385151026,
          27631.73568348905,
          26634.380764146907,
          25589.67088777474,
          24499.463510408103,
          23365.69698097908,
          22190.387095002367,
          20975.623510564696,
          19723.56603298875,
          18436.44077477842,
          17116.536197671656,
          15766.19904383929,
          14387.830163463006,
          12983.88024611123,
          11556.845463502721,
          10109.263031404109,
          8643.706698553053,
          7162.782170626844,
          5669.122477392685,
          4165.383291277042,
          2654.2382056768665,
          1138.3739814081612,
          -379.51423025683215,
          -1896.727679470044,
          -3410.5688160864215,
          -4918.346085809738,
          -6417.378715677687,
          -7905.0014803786335,
          -9378.569440924735,
          -10835.462647257065,
          -12273.090796421176,
          -13688.897838031198,
          -15080.366518834293,
          -16445.022858294753,
          -17780.440547241484,
          -19084.245261756976,
          -20354.11888463849,
          -21587.803626926154,
          -22783.106042168973,
          -23937.900926292867,
          -25050.135096135782,
          -26117.8310399325,
          -27139.090433258403,
          -28112.09751418093,
          -29035.122311618205,
          -29906.523721164325,
          -30724.752422913138,
          -31488.353636092626,
          -32195.969705611817,
          -32846.34251592213,
          -33438.31572790093,
          -33970.836834780195,
          -34442.95903346518,
          -34853.84290791577,
          -35202.75792159759,
          -35489.08371634928,
          -35712.31121535664,
          -35872.0435282727,
          -35967.99665687418,
          -36000.00000000007
         ],
         "y": [
          6.835757469533963e-11,
          -1517.6351640274215,
          -3032.572028116363,
          -4542.117089806968,
          -6043.586433067402,
          -7534.310500198496,
          -9011.63883820986,
          -10472.944811228695,
          -11915.63027056239,
          -13337.130174112193,
          -14734.917146924397,
          -16106.50597477081,
          -17449.45802276887,
          -18761.385571185652,
          -20039.956060716217,
          -21282.89623968907,
          -22487.996205824624,
          -23653.113335360787,
          -24776.17609255992,
          -25855.18771282362,
          -26888.229752867417,
          -27873.46550164298,
          -28809.14324594316,
          -29693.5993848843,
          -30525.26138772781,
          -31302.650589782505,
          -32024.384821416374,
          -32689.18086550384,
          -33295.856738938935,
          -33843.33379415809,
          -34330.638636936215,
          -34756.90485704608,
          -35121.37456870407,
          -35423.39975806343,
          -35662.44343535931,
          -35838.08058965688,
          -35949.998944505336,
          -35997.99951315399,
          -35981.996952343485,
          -35902.019714042945,
          -35758.209994863464,
          -35550.82348323769,
          -35280.22890481515,
          -34946.90736688146,
          -34551.45150296716,
          -34094.56441916689,
          -33577.05844404253,
          -32999.85368433244,
          -32363.976389035488,
          -31670.557124777602,
          -30920.828765705704,
          -30116.124301482367,
          -29257.874467278936,
          -28347.60519998044,
          -27386.934925125744,
          -26377.571679405733,
          -25321.31007383663,
          -24220.02810300696,
          -23075.683806071786,
          -21890.31178543051,
          -20666.019589278025,
          -19404.983964460953,
          -18109.446986301275,
          -16781.712072268114,
          -15424.139886585577,
          -14039.14414305794,
          -12629.1873135745,
          -11196.77624992457,
          -9744.457726706269,
          -8274.813913254438,
          -6790.457782637676,
          -5294.028465887634,
          -3788.1865597202263,
          -2275.6093960919825,
          -758.9862820012831,
          758.9862820011392,
          2275.609396091839,
          3788.186559720115,
          5294.028465887492,
          6790.457782637534,
          8274.813913254298,
          9744.45772670613,
          11196.776249924433,
          12629.187313574364,
          14039.144143057776,
          15424.139886585446,
          16781.712072267987,
          18109.44698630115,
          19404.983964460836,
          20666.01958927791,
          21890.311785430393,
          23075.683806071673,
          24220.028103006855,
          25321.31007383653,
          26377.571679405646,
          27386.93492512564,
          28347.605199980364,
          29257.874467278834,
          30116.124301482312,
          30920.82876570564,
          31670.55712477754,
          32363.97638903543,
          32999.85368433239,
          33577.05844404247,
          34094.56441916685,
          34551.45150296711,
          34946.90736688142,
          35280.22890481512,
          35550.82348323768,
          35758.20999486345,
          35902.01971404294,
          35981.99695234348,
          35997.999513154,
          35949.99894450535,
          35838.08058965689,
          35662.443435359324,
          35423.39975806346,
          35121.3745687041,
          34756.90485704613,
          34330.638636936266,
          33843.333794158134,
          33295.85673893899,
          32689.180865503884,
          32024.384821416428,
          31302.650589782574,
          30525.261387727878,
          29693.599384884397,
          28809.143245943265,
          27873.465501643102,
          26888.229752867548,
          25855.187712823732,
          24776.176092560036,
          23653.11333536089,
          22487.996205824726,
          21282.89623968917,
          20039.956060716308,
          18761.385571185787,
          17449.458022769013,
          16106.505974770922,
          14734.917146924574,
          13337.130174112357,
          11915.630270562538,
          10472.944811228832,
          9011.638838209998,
          7534.3105001986205,
          6043.586433067529,
          4542.117089807079,
          3032.572028116459,
          1517.6351640275816,
          6.835757469533963e-11
         ]
        },
        {
         "marker": {
          "color": "rgb(44, 160, 44)",
          "size": 10
         },
         "mode": "markers",
         "name": "2000-01-01 16:22 (Final orbit)",
         "type": "scatter",
         "x": [
          -36000.00000000004
         ],
         "y": [
          5.237036314073729e-11
         ]
        }
       ],
       "layout": {
        "autosize": true,
        "shapes": [
         {
          "fillcolor": "#2a7bd1",
          "line": {
           "color": "#2a7bd1"
          },
          "opacity": 1,
          "type": "circle",
          "x0": -6378.1366,
          "x1": 6378.1366,
          "xref": "x",
          "y0": -6378.1366,
          "y1": 6378.1366,
          "yref": "y"
         },
         {
          "fillcolor": "#2a7bd1",
          "line": {
           "color": "#2a7bd1"
          },
          "opacity": 1,
          "type": "circle",
          "x0": -6378.1366,
          "x1": 6378.1366,
          "xref": "x",
          "y0": -6378.1366,
          "y1": 6378.1366,
          "yref": "y"
         },
         {
          "fillcolor": "#2a7bd1",
          "line": {
           "color": "#2a7bd1"
          },
          "opacity": 1,
          "type": "circle",
          "x0": -6378.1366,
          "x1": 6378.1366,
          "xref": "x",
          "y0": -6378.1366,
          "y1": 6378.1366,
          "yref": "y"
         },
         {
          "fillcolor": "#2a7bd1",
          "line": {
           "color": "#2a7bd1"
          },
          "opacity": 1,
          "type": "circle",
          "x0": -6378.1366,
          "x1": 6378.1366,
          "xref": "x",
          "y0": -6378.1366,
          "y1": 6378.1366,
          "yref": "y"
         },
         {
          "fillcolor": "#2a7bd1",
          "line": {
           "color": "#2a7bd1"
          },
          "opacity": 1,
          "type": "circle",
          "x0": -6378.1366,
          "x1": 6378.1366,
          "xref": "x",
          "y0": -6378.1366,
          "y1": 6378.1366,
          "yref": "y"
         },
         {
          "fillcolor": "#2a7bd1",
          "line": {
           "color": "#2a7bd1"
          },
          "opacity": 1,
          "type": "circle",
          "x0": -6378.1366,
          "x1": 6378.1366,
          "xref": "x",
          "y0": -6378.1366,
          "y1": 6378.1366,
          "yref": "y"
         }
        ],
        "template": {
         "data": {
          "bar": [
           {
            "error_x": {
             "color": "#2a3f5f"
            },
            "error_y": {
             "color": "#2a3f5f"
            },
            "marker": {
             "line": {
              "color": "#E5ECF6",
              "width": 0.5
             }
            },
            "type": "bar"
           }
          ],
          "barpolar": [
           {
            "marker": {
             "line": {
              "color": "#E5ECF6",
              "width": 0.5
             }
            },
            "type": "barpolar"
           }
          ],
          "carpet": [
           {
            "aaxis": {
             "endlinecolor": "#2a3f5f",
             "gridcolor": "white",
             "linecolor": "white",
             "minorgridcolor": "white",
             "startlinecolor": "#2a3f5f"
            },
            "baxis": {
             "endlinecolor": "#2a3f5f",
             "gridcolor": "white",
             "linecolor": "white",
             "minorgridcolor": "white",
             "startlinecolor": "#2a3f5f"
            },
            "type": "carpet"
           }
          ],
          "choropleth": [
           {
            "colorbar": {
             "outlinewidth": 0,
             "ticks": ""
            },
            "type": "choropleth"
           }
          ],
          "contour": [
           {
            "colorbar": {
             "outlinewidth": 0,
             "ticks": ""
            },
            "colorscale": [
             [
              0,
              "#0d0887"
             ],
             [
              0.1111111111111111,
              "#46039f"
             ],
             [
              0.2222222222222222,
              "#7201a8"
             ],
             [
              0.3333333333333333,
              "#9c179e"
             ],
             [
              0.4444444444444444,
              "#bd3786"
             ],
             [
              0.5555555555555556,
              "#d8576b"
             ],
             [
              0.6666666666666666,
              "#ed7953"
             ],
             [
              0.7777777777777778,
              "#fb9f3a"
             ],
             [
              0.8888888888888888,
              "#fdca26"
             ],
             [
              1,
              "#f0f921"
             ]
            ],
            "type": "contour"
           }
          ],
          "contourcarpet": [
           {
            "colorbar": {
             "outlinewidth": 0,
             "ticks": ""
            },
            "type": "contourcarpet"
           }
          ],
          "heatmap": [
           {
            "colorbar": {
             "outlinewidth": 0,
             "ticks": ""
            },
            "colorscale": [
             [
              0,
              "#0d0887"
             ],
             [
              0.1111111111111111,
              "#46039f"
             ],
             [
              0.2222222222222222,
              "#7201a8"
             ],
             [
              0.3333333333333333,
              "#9c179e"
             ],
             [
              0.4444444444444444,
              "#bd3786"
             ],
             [
              0.5555555555555556,
              "#d8576b"
             ],
             [
              0.6666666666666666,
              "#ed7953"
             ],
             [
              0.7777777777777778,
              "#fb9f3a"
             ],
             [
              0.8888888888888888,
              "#fdca26"
             ],
             [
              1,
              "#f0f921"
             ]
            ],
            "type": "heatmap"
           }
          ],
          "heatmapgl": [
           {
            "colorbar": {
             "outlinewidth": 0,
             "ticks": ""
            },
            "colorscale": [
             [
              0,
              "#0d0887"
             ],
             [
              0.1111111111111111,
              "#46039f"
             ],
             [
              0.2222222222222222,
              "#7201a8"
             ],
             [
              0.3333333333333333,
              "#9c179e"
             ],
             [
              0.4444444444444444,
              "#bd3786"
             ],
             [
              0.5555555555555556,
              "#d8576b"
             ],
             [
              0.6666666666666666,
              "#ed7953"
             ],
             [
              0.7777777777777778,
              "#fb9f3a"
             ],
             [
              0.8888888888888888,
              "#fdca26"
             ],
             [
              1,
              "#f0f921"
             ]
            ],
            "type": "heatmapgl"
           }
          ],
          "histogram": [
           {
            "marker": {
             "colorbar": {
              "outlinewidth": 0,
              "ticks": ""
             }
            },
            "type": "histogram"
           }
          ],
          "histogram2d": [
           {
            "colorbar": {
             "outlinewidth": 0,
             "ticks": ""
            },
            "colorscale": [
             [
              0,
              "#0d0887"
             ],
             [
              0.1111111111111111,
              "#46039f"
             ],
             [
              0.2222222222222222,
              "#7201a8"
             ],
             [
              0.3333333333333333,
              "#9c179e"
             ],
             [
              0.4444444444444444,
              "#bd3786"
             ],
             [
              0.5555555555555556,
              "#d8576b"
             ],
             [
              0.6666666666666666,
              "#ed7953"
             ],
             [
              0.7777777777777778,
              "#fb9f3a"
             ],
             [
              0.8888888888888888,
              "#fdca26"
             ],
             [
              1,
              "#f0f921"
             ]
            ],
            "type": "histogram2d"
           }
          ],
          "histogram2dcontour": [
           {
            "colorbar": {
             "outlinewidth": 0,
             "ticks": ""
            },
            "colorscale": [
             [
              0,
              "#0d0887"
             ],
             [
              0.1111111111111111,
              "#46039f"
             ],
             [
              0.2222222222222222,
              "#7201a8"
             ],
             [
              0.3333333333333333,
              "#9c179e"
             ],
             [
              0.4444444444444444,
              "#bd3786"
             ],
             [
              0.5555555555555556,
              "#d8576b"
             ],
             [
              0.6666666666666666,
              "#ed7953"
             ],
             [
              0.7777777777777778,
              "#fb9f3a"
             ],
             [
              0.8888888888888888,
              "#fdca26"
             ],
             [
              1,
              "#f0f921"
             ]
            ],
            "type": "histogram2dcontour"
           }
          ],
          "mesh3d": [
           {
            "colorbar": {
             "outlinewidth": 0,
             "ticks": ""
            },
            "type": "mesh3d"
           }
          ],
          "parcoords": [
           {
            "line": {
             "colorbar": {
              "outlinewidth": 0,
              "ticks": ""
             }
            },
            "type": "parcoords"
           }
          ],
          "pie": [
           {
            "automargin": true,
            "type": "pie"
           }
          ],
          "scatter": [
           {
            "marker": {
             "colorbar": {
              "outlinewidth": 0,
              "ticks": ""
             }
            },
            "type": "scatter"
           }
          ],
          "scatter3d": [
           {
            "line": {
             "colorbar": {
              "outlinewidth": 0,
              "ticks": ""
             }
            },
            "marker": {
             "colorbar": {
              "outlinewidth": 0,
              "ticks": ""
             }
            },
            "type": "scatter3d"
           }
          ],
          "scattercarpet": [
           {
            "marker": {
             "colorbar": {
              "outlinewidth": 0,
              "ticks": ""
             }
            },
            "type": "scattercarpet"
           }
          ],
          "scattergeo": [
           {
            "marker": {
             "colorbar": {
              "outlinewidth": 0,
              "ticks": ""
             }
            },
            "type": "scattergeo"
           }
          ],
          "scattergl": [
           {
            "marker": {
             "colorbar": {
              "outlinewidth": 0,
              "ticks": ""
             }
            },
            "type": "scattergl"
           }
          ],
          "scattermapbox": [
           {
            "marker": {
             "colorbar": {
              "outlinewidth": 0,
              "ticks": ""
             }
            },
            "type": "scattermapbox"
           }
          ],
          "scatterpolar": [
           {
            "marker": {
             "colorbar": {
              "outlinewidth": 0,
              "ticks": ""
             }
            },
            "type": "scatterpolar"
           }
          ],
          "scatterpolargl": [
           {
            "marker": {
             "colorbar": {
              "outlinewidth": 0,
              "ticks": ""
             }
            },
            "type": "scatterpolargl"
           }
          ],
          "scatterternary": [
           {
            "marker": {
             "colorbar": {
              "outlinewidth": 0,
              "ticks": ""
             }
            },
            "type": "scatterternary"
           }
          ],
          "surface": [
           {
            "colorbar": {
             "outlinewidth": 0,
             "ticks": ""
            },
            "colorscale": [
             [
              0,
              "#0d0887"
             ],
             [
              0.1111111111111111,
              "#46039f"
             ],
             [
              0.2222222222222222,
              "#7201a8"
             ],
             [
              0.3333333333333333,
              "#9c179e"
             ],
             [
              0.4444444444444444,
              "#bd3786"
             ],
             [
              0.5555555555555556,
              "#d8576b"
             ],
             [
              0.6666666666666666,
              "#ed7953"
             ],
             [
              0.7777777777777778,
              "#fb9f3a"
             ],
             [
              0.8888888888888888,
              "#fdca26"
             ],
             [
              1,
              "#f0f921"
             ]
            ],
            "type": "surface"
           }
          ],
          "table": [
           {
            "cells": {
             "fill": {
              "color": "#EBF0F8"
             },
             "line": {
              "color": "white"
             }
            },
            "header": {
             "fill": {
              "color": "#C8D4E3"
             },
             "line": {
              "color": "white"
             }
            },
            "type": "table"
           }
          ]
         },
         "layout": {
          "annotationdefaults": {
           "arrowcolor": "#2a3f5f",
           "arrowhead": 0,
           "arrowwidth": 1
          },
          "autotypenumbers": "strict",
          "coloraxis": {
           "colorbar": {
            "outlinewidth": 0,
            "ticks": ""
           }
          },
          "colorscale": {
           "diverging": [
            [
             0,
             "#8e0152"
            ],
            [
             0.1,
             "#c51b7d"
            ],
            [
             0.2,
             "#de77ae"
            ],
            [
             0.3,
             "#f1b6da"
            ],
            [
             0.4,
             "#fde0ef"
            ],
            [
             0.5,
             "#f7f7f7"
            ],
            [
             0.6,
             "#e6f5d0"
            ],
            [
             0.7,
             "#b8e186"
            ],
            [
             0.8,
             "#7fbc41"
            ],
            [
             0.9,
             "#4d9221"
            ],
            [
             1,
             "#276419"
            ]
           ],
           "sequential": [
            [
             0,
             "#0d0887"
            ],
            [
             0.1111111111111111,
             "#46039f"
            ],
            [
             0.2222222222222222,
             "#7201a8"
            ],
            [
             0.3333333333333333,
             "#9c179e"
            ],
            [
             0.4444444444444444,
             "#bd3786"
            ],
            [
             0.5555555555555556,
             "#d8576b"
            ],
            [
             0.6666666666666666,
             "#ed7953"
            ],
            [
             0.7777777777777778,
             "#fb9f3a"
            ],
            [
             0.8888888888888888,
             "#fdca26"
            ],
            [
             1,
             "#f0f921"
            ]
           ],
           "sequentialminus": [
            [
             0,
             "#0d0887"
            ],
            [
             0.1111111111111111,
             "#46039f"
            ],
            [
             0.2222222222222222,
             "#7201a8"
            ],
            [
             0.3333333333333333,
             "#9c179e"
            ],
            [
             0.4444444444444444,
             "#bd3786"
            ],
            [
             0.5555555555555556,
             "#d8576b"
            ],
            [
             0.6666666666666666,
             "#ed7953"
            ],
            [
             0.7777777777777778,
             "#fb9f3a"
            ],
            [
             0.8888888888888888,
             "#fdca26"
            ],
            [
             1,
             "#f0f921"
            ]
           ]
          },
          "colorway": [
           "#636efa",
           "#EF553B",
           "#00cc96",
           "#ab63fa",
           "#FFA15A",
           "#19d3f3",
           "#FF6692",
           "#B6E880",
           "#FF97FF",
           "#FECB52"
          ],
          "font": {
           "color": "#2a3f5f"
          },
          "geo": {
           "bgcolor": "white",
           "lakecolor": "white",
           "landcolor": "#E5ECF6",
           "showlakes": true,
           "showland": true,
           "subunitcolor": "white"
          },
          "hoverlabel": {
           "align": "left"
          },
          "hovermode": "closest",
          "mapbox": {
           "style": "light"
          },
          "paper_bgcolor": "white",
          "plot_bgcolor": "#E5ECF6",
          "polar": {
           "angularaxis": {
            "gridcolor": "white",
            "linecolor": "white",
            "ticks": ""
           },
           "bgcolor": "#E5ECF6",
           "radialaxis": {
            "gridcolor": "white",
            "linecolor": "white",
            "ticks": ""
           }
          },
          "scene": {
           "xaxis": {
            "backgroundcolor": "#E5ECF6",
            "gridcolor": "white",
            "gridwidth": 2,
            "linecolor": "white",
            "showbackground": true,
            "ticks": "",
            "zerolinecolor": "white"
           },
           "yaxis": {
            "backgroundcolor": "#E5ECF6",
            "gridcolor": "white",
            "gridwidth": 2,
            "linecolor": "white",
            "showbackground": true,
            "ticks": "",
            "zerolinecolor": "white"
           },
           "zaxis": {
            "backgroundcolor": "#E5ECF6",
            "gridcolor": "white",
            "gridwidth": 2,
            "linecolor": "white",
            "showbackground": true,
            "ticks": "",
            "zerolinecolor": "white"
           }
          },
          "shapedefaults": {
           "line": {
            "color": "#2a3f5f"
           }
          },
          "ternary": {
           "aaxis": {
            "gridcolor": "white",
            "linecolor": "white",
            "ticks": ""
           },
           "baxis": {
            "gridcolor": "white",
            "linecolor": "white",
            "ticks": ""
           },
           "bgcolor": "#E5ECF6",
           "caxis": {
            "gridcolor": "white",
            "linecolor": "white",
            "ticks": ""
           }
          },
          "title": {
           "x": 0.05
          },
          "xaxis": {
           "automargin": true,
           "gridcolor": "white",
           "linecolor": "white",
           "ticks": "",
           "title": {
            "standoff": 15
           },
           "zerolinecolor": "white",
           "zerolinewidth": 2
          },
          "yaxis": {
           "automargin": true,
           "gridcolor": "white",
           "linecolor": "white",
           "ticks": "",
           "title": {
            "standoff": 15
           },
           "zerolinecolor": "white",
           "zerolinewidth": 2
          }
         }
        },
        "xaxis": {
         "constrain": "domain",
         "title": {
          "text": "x (km)"
         }
        },
        "yaxis": {
         "scaleanchor": "x",
         "title": {
          "text": "y (km)"
         }
        }
       }
      }
     },
     "metadata": {}
    }
   ],
   "source": [
    "from poliastro.plotting import OrbitPlotter2D\n",
    "\n",
    "op = OrbitPlotter2D()\n",
    "ss_a, ss_f = ss_i.apply_maneuver(hoh, intermediate=True)\n",
    "op.plot(ss_i, label=\"Initial orbit\")\n",
    "op.plot(ss_a, label=\"Transfer orbit\")\n",
    "op.plot(ss_f, label=\"Final orbit\")"
   ]
  },
  {
   "source": [
    "## Where are the planets? Computing ephemerides\n",
    "\n",
    "New in version 0.14.0.\n",
    "\n",
    "Thanks to Astropy and jplephem, poliastro can read Satellite Planet Kernel (SPK) files, part of NASA’s SPICE toolkit. This means that we can query the position and velocity of the planets of the Solar System.\n",
    "\n",
    "The poliastro.ephem.Ephem class allows us to retrieve a planetary orbit using low precision ephemerides available in Astropy and an astropy.time.Time:"
   ],
   "cell_type": "markdown",
   "metadata": {}
  },
  {
   "cell_type": "code",
   "execution_count": 47,
   "metadata": {},
   "outputs": [],
   "source": [
    "from astropy import time\n",
    "epoch = time.Time(\"2020-04-29 10:43\")  # UTC by default"
   ]
  },
  {
   "source": [
    "And finally, retrieve the planet ephemerides:"
   ],
   "cell_type": "markdown",
   "metadata": {}
  },
  {
   "cell_type": "code",
   "execution_count": 49,
   "metadata": {},
   "outputs": [
    {
     "output_type": "execute_result",
     "data": {
      "text/plain": [
       "Ephemerides at 1 epochs from 2020-04-29 10:44:09.186 (TDB) to 2020-04-29 10:44:09.186 (TDB)"
      ]
     },
     "metadata": {},
     "execution_count": 49
    }
   ],
   "source": [
    "from poliastro.ephem import Ephem\n",
    "\n",
    "earth = Ephem.from_body(Earth, epoch.tdb)\n",
    "earth"
   ]
  },
  {
   "cell_type": "code",
   "execution_count": 53,
   "metadata": {},
   "outputs": [
    {
     "output_type": "execute_result",
     "data": {
      "text/plain": [
       "<ScienceState solar_system_ephemeris: 'jpl'>"
      ]
     },
     "metadata": {},
     "execution_count": 53
    }
   ],
   "source": [
    "from astropy.coordinates import solar_system_ephemeris\n",
    "solar_system_ephemeris.set(\"jpl\")"
   ]
  },
  {
   "source": [
    "If we want to retrieve the osculating orbit at a given epoch, we can do so using from_ephem():"
   ],
   "cell_type": "markdown",
   "metadata": {}
  },
  {
   "cell_type": "code",
   "execution_count": 54,
   "metadata": {},
   "outputs": [
    {
     "output_type": "execute_result",
     "data": {
      "text/plain": [
       "1 x 1 AU x 23.4 deg (HCRS) orbit around Sun (☉) at epoch 2020-04-29 10:43:00.000 (UTC)"
      ]
     },
     "metadata": {},
     "execution_count": 54
    }
   ],
   "source": [
    "Orbit.from_ephem(Sun, earth, epoch)"
   ]
  },
  {
   "source": [
    "## Traveling through space: solving the Lambert problem\n",
    "\n",
    "The determination of an orbit given two position vectors and the time of flight is known in celestial mechanics as Lambert’s problem, also known as two point boundary value problem. This contrasts with Kepler’s problem or propagation, which is rather an initial value problem.\n",
    "\n",
    "The package poliastro.iod holds the different raw algorithms to solve Lambert’s problem, provided the main attractor’s gravitational constant, the two position vectors and the time of flight. As you can imagine, being able to compute the positions of the planets as we saw in the previous section is the perfect complement to this feature!\n",
    "\n",
    "Since poliastro version 0.13 it is possible to solve Lambert’s problem by making use of the poliastro.maneuver module. We just need to pass as arguments the initial and final orbits and the output will be a poliastro.maneuver.Maneuver instance. Time of flight is computed internally since orbits epochs are known.\n",
    "\n",
    "For instance, this is a simplified version of the example “Going to Mars with Python using poliastro”, where the orbit of the Mars Science Laboratory mission (rover Curiosity) is determined:"
   ],
   "cell_type": "markdown",
   "metadata": {}
  },
  {
   "cell_type": "code",
   "execution_count": 56,
   "metadata": {},
   "outputs": [
    {
     "output_type": "stream",
     "name": "stderr",
     "text": [
      "<ipython-input-56-9cc1a70d010c>:4: TimeScaleWarning:\n\nInput time was converted to scale='tdb' with value ['2011-11-26 15:03:06.183']. Use Time(..., scale='tdb') instead.\n\n<ipython-input-56-9cc1a70d010c>:5: TimeScaleWarning:\n\nInput time was converted to scale='tdb' with value ['2012-08-06 05:18:07.183']. Use Time(..., scale='tdb') instead.\n\n"
     ]
    }
   ],
   "source": [
    "date_launch = time.Time('2011-11-26 15:02', scale='utc')\n",
    "date_arrival = time.Time('2012-08-06 05:17', scale='utc')\n",
    "\n",
    "ss0 = Orbit.from_ephem(Sun, Ephem.from_body(Earth, date_launch), date_launch)\n",
    "ssf = Orbit.from_ephem(Sun, Ephem.from_body(Mars, date_arrival), date_arrival)\n",
    "\n",
    "man_lambert = Maneuver.lambert(ss0, ssf)\n",
    "dv_a, dv_b = man_lambert.impulses"
   ]
  },
  {
   "cell_type": "code",
   "execution_count": 58,
   "metadata": {},
   "outputs": [
    {
     "output_type": "execute_result",
     "data": {
      "text/plain": [
       "(<Quantity 0. s>,\n",
       " <Quantity [-2064.35606458,  2587.62245415,   239.60146757] m / s>)"
      ]
     },
     "metadata": {},
     "execution_count": 58
    }
   ],
   "source": [
    "dv_a"
   ]
  },
  {
   "cell_type": "code",
   "execution_count": 60,
   "metadata": {},
   "outputs": [
    {
     "output_type": "execute_result",
     "data": {
      "text/plain": [
       "(<Quantity 21910501. s>,\n",
       " <Quantity [ 3332.19170739,   680.5317439 , -1090.15094977] m / s>)"
      ]
     },
     "metadata": {},
     "execution_count": 60
    }
   ],
   "source": [
    "dv_b"
   ]
  },
  {
   "source": [
    "## Fetching Orbits from external sources\n",
    "\n",
    "As of now, poliastro supports fetching orbits from 2 online databases from Jet Propulsion Laboratory: SBDB and Horizons.\n",
    "\n",
    "JPL Horizons can be used to generate ephemerides for solar-system bodies, while JPL SBDB (Small-Body Database Browser) provides model orbits for all known asteroids and many comets.\n",
    "\n",
    "The data is fetched using the wrappers to these services provided by astroquery."
   ],
   "cell_type": "markdown",
   "metadata": {}
  },
  {
   "cell_type": "code",
   "execution_count": 73,
   "metadata": {},
   "outputs": [
    {
     "output_type": "execute_result",
     "data": {
      "text/plain": [
       "1 x 1 AU x 3.3 deg (HeliocentricEclipticIAU76) orbit around Sun (☉) at epoch 2459200.500800735 (TDB)"
      ]
     },
     "metadata": {},
     "execution_count": 73
    }
   ],
   "source": [
    "epoch = time.Time(\"2020-04-29 10:43\")\n",
    "Ephem.from_horizons(\"Ceres\", epoch)\n",
    "Orbit.from_sbdb(\"Apophis\")"
   ]
  },
  {
   "source": [
    "## Creating a CZML document\n",
    "\n",
    "We can create CZML documents which can then be visualized with the help of Cesium. First we load the orbital data and the CZML Extractor:"
   ],
   "cell_type": "markdown",
   "metadata": {}
  },
  {
   "cell_type": "code",
   "execution_count": 75,
   "metadata": {},
   "outputs": [],
   "source": [
    "from poliastro.examples import molniya, iss\n",
    "from poliastro.czml.extract_czml import CZMLExtractor"
   ]
  },
  {
   "source": [
    "Then we specify the starting and ending epoch, as well as the number of sample points (the higher the number, the more accurate the trajectory):"
   ],
   "cell_type": "markdown",
   "metadata": {}
  },
  {
   "cell_type": "code",
   "execution_count": 78,
   "metadata": {},
   "outputs": [],
   "source": [
    "start_epoch = iss.epoch\n",
    "end_epoch = iss.epoch + molniya.period\n",
    "sample_points = 10\n",
    "\n",
    "extractor = CZMLExtractor(start_epoch, end_epoch, sample_points)\n",
    "\n",
    "extractor.add_orbit(molniya, label_text=\"Molniya\")\n",
    "extractor.add_orbit(iss, label_text=\"ISS\")"
   ]
  }
 ]
}